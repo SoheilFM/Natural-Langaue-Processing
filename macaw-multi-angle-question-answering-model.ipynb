{
 "cells": [
  {
   "cell_type": "markdown",
   "metadata": {},
   "source": [
    "# Macaw\n",
    "\n",
    "Macaw (Multi-angle c(q)uestion answering) is a ready-to-use model capable of general question answering, showing robustness outside the domains it was trained on. It has been trained in \"multi-angle\" fashion, which means it can handle a flexible set of input and output \"slots\" (like question, answer, explanation) .\n",
    "\n",
    "Source - https://github.com/allenai/macaw\n",
    "\n",
    "This notebook tries to take Macaw for a spin with the help of 🤗 `transformers`\n",
    "\n",
    "Model Hub (with Inference Demo) - https://huggingface.co/allenai/macaw-large?text=%24answer%3D+New+Delhi+is+the+capital+of+India%24%3B+%24question%24\n"
   ]
  },
  {
   "cell_type": "markdown",
   "metadata": {},
   "source": [
    "Install `transformers` library (make sure your Internet on Kaggle Notebook settings is on)\n"
   ]
  },
  {
   "cell_type": "code",
   "execution_count": 1,
   "metadata": {
    "execution": {
     "iopub.execute_input": "2021-11-11T18:42:36.561421Z",
     "iopub.status.busy": "2021-11-11T18:42:36.561032Z",
     "iopub.status.idle": "2021-11-11T18:42:46.633791Z",
     "shell.execute_reply": "2021-11-11T18:42:46.632856Z",
     "shell.execute_reply.started": "2021-11-11T18:42:36.561299Z"
    },
    "trusted": true
   },
   "outputs": [
    {
     "name": "stdout",
     "output_type": "stream",
     "text": [
      "Requirement already satisfied: transformers in /opt/conda/lib/python3.7/site-packages (4.5.1)\n",
      "Requirement already satisfied: numpy>=1.17 in /opt/conda/lib/python3.7/site-packages (from transformers) (1.19.5)\n",
      "Requirement already satisfied: tqdm>=4.27 in /opt/conda/lib/python3.7/site-packages (from transformers) (4.62.3)\n",
      "Requirement already satisfied: tokenizers<0.11,>=0.10.1 in /opt/conda/lib/python3.7/site-packages (from transformers) (0.10.3)\n",
      "Requirement already satisfied: sacremoses in /opt/conda/lib/python3.7/site-packages (from transformers) (0.0.46)\n",
      "Requirement already satisfied: regex!=2019.12.17 in /opt/conda/lib/python3.7/site-packages (from transformers) (2021.8.28)\n",
      "Requirement already satisfied: packaging in /opt/conda/lib/python3.7/site-packages (from transformers) (21.0)\n",
      "Requirement already satisfied: importlib-metadata in /opt/conda/lib/python3.7/site-packages (from transformers) (4.8.1)\n",
      "Requirement already satisfied: requests in /opt/conda/lib/python3.7/site-packages (from transformers) (2.25.1)\n",
      "Requirement already satisfied: filelock in /opt/conda/lib/python3.7/site-packages (from transformers) (3.0.12)\n",
      "Requirement already satisfied: typing-extensions>=3.6.4 in /opt/conda/lib/python3.7/site-packages (from importlib-metadata->transformers) (3.10.0.2)\n",
      "Requirement already satisfied: zipp>=0.5 in /opt/conda/lib/python3.7/site-packages (from importlib-metadata->transformers) (3.5.0)\n",
      "Requirement already satisfied: pyparsing>=2.0.2 in /opt/conda/lib/python3.7/site-packages (from packaging->transformers) (2.4.7)\n",
      "Requirement already satisfied: idna<3,>=2.5 in /opt/conda/lib/python3.7/site-packages (from requests->transformers) (2.10)\n",
      "Requirement already satisfied: certifi>=2017.4.17 in /opt/conda/lib/python3.7/site-packages (from requests->transformers) (2021.10.8)\n",
      "Requirement already satisfied: urllib3<1.27,>=1.21.1 in /opt/conda/lib/python3.7/site-packages (from requests->transformers) (1.26.6)\n",
      "Requirement already satisfied: chardet<5,>=3.0.2 in /opt/conda/lib/python3.7/site-packages (from requests->transformers) (4.0.0)\n",
      "Requirement already satisfied: six in /opt/conda/lib/python3.7/site-packages (from sacremoses->transformers) (1.16.0)\n",
      "Requirement already satisfied: click in /opt/conda/lib/python3.7/site-packages (from sacremoses->transformers) (8.0.1)\n",
      "Requirement already satisfied: joblib in /opt/conda/lib/python3.7/site-packages (from sacremoses->transformers) (1.0.1)\n",
      "\u001b[33mWARNING: Running pip as the 'root' user can result in broken permissions and conflicting behaviour with the system package manager. It is recommended to use a virtual environment instead: https://pip.pypa.io/warnings/venv\u001b[0m\n"
     ]
    }
   ],
   "source": [
    "! pip install transformers"
   ]
  },
  {
   "cell_type": "markdown",
   "metadata": {},
   "source": [
    "### Load the required Classes\n"
   ]
  },
  {
   "cell_type": "code",
   "execution_count": 1,
   "metadata": {
    "execution": {
     "iopub.execute_input": "2021-11-11T19:05:53.177038Z",
     "iopub.status.busy": "2021-11-11T19:05:53.176017Z",
     "iopub.status.idle": "2021-11-11T19:06:01.427898Z",
     "shell.execute_reply": "2021-11-11T19:06:01.426841Z",
     "shell.execute_reply.started": "2021-11-11T19:05:53.176876Z"
    },
    "trusted": true
   },
   "outputs": [],
   "source": [
    "from transformers import AutoTokenizer, AutoModelForSeq2SeqLM"
   ]
  },
  {
   "cell_type": "markdown",
   "metadata": {},
   "source": [
    "### Initialize the Tokenizer and Model (very typical 🤗 transformers process)\n"
   ]
  },
  {
   "cell_type": "code",
   "execution_count": 2,
   "metadata": {
    "execution": {
     "iopub.execute_input": "2021-11-11T19:06:01.430265Z",
     "iopub.status.busy": "2021-11-11T19:06:01.429978Z",
     "iopub.status.idle": "2021-11-11T19:06:09.224416Z",
     "shell.execute_reply": "2021-11-11T19:06:09.223265Z",
     "shell.execute_reply.started": "2021-11-11T19:06:01.430232Z"
    },
    "trusted": true
   },
   "outputs": [
    {
     "data": {
      "application/vnd.jupyter.widget-view+json": {
       "model_id": "e30b53e5a72149d3acf508f539ad2487",
       "version_major": 2,
       "version_minor": 0
      },
      "text/plain": [
       "Downloading:   0%|          | 0.00/1.24k [00:00<?, ?B/s]"
      ]
     },
     "metadata": {},
     "output_type": "display_data"
    },
    {
     "data": {
      "application/vnd.jupyter.widget-view+json": {
       "model_id": "746769377b4e40e795ef64c4e01f644b",
       "version_major": 2,
       "version_minor": 0
      },
      "text/plain": [
       "Downloading:   0%|          | 0.00/792k [00:00<?, ?B/s]"
      ]
     },
     "metadata": {},
     "output_type": "display_data"
    },
    {
     "data": {
      "application/vnd.jupyter.widget-view+json": {
       "model_id": "3a91d44852f5433ea4018f44f5933d05",
       "version_major": 2,
       "version_minor": 0
      },
      "text/plain": [
       "Downloading:   0%|          | 0.00/1.79k [00:00<?, ?B/s]"
      ]
     },
     "metadata": {},
     "output_type": "display_data"
    },
    {
     "data": {
      "application/vnd.jupyter.widget-view+json": {
       "model_id": "e6df36b5907f426f9bb149f081832dad",
       "version_major": 2,
       "version_minor": 0
      },
      "text/plain": [
       "Downloading:   0%|          | 0.00/26.0 [00:00<?, ?B/s]"
      ]
     },
     "metadata": {},
     "output_type": "display_data"
    }
   ],
   "source": [
    "tokenizer = AutoTokenizer.from_pretrained(\"allenai/macaw-large\") #300 million paramaters"
   ]
  },
  {
   "cell_type": "code",
   "execution_count": 3,
   "metadata": {
    "execution": {
     "iopub.execute_input": "2021-11-11T19:06:11.083205Z",
     "iopub.status.busy": "2021-11-11T19:06:11.082817Z",
     "iopub.status.idle": "2021-11-11T19:10:48.558088Z",
     "shell.execute_reply": "2021-11-11T19:10:48.557339Z",
     "shell.execute_reply.started": "2021-11-11T19:06:11.083163Z"
    },
    "trusted": true
   },
   "outputs": [
    {
     "data": {
      "application/vnd.jupyter.widget-view+json": {
       "model_id": "8bd07a541eef4b5ab5f41a1a250aeb64",
       "version_major": 2,
       "version_minor": 0
      },
      "text/plain": [
       "Downloading:   0%|          | 0.00/2.95G [00:00<?, ?B/s]"
      ]
     },
     "metadata": {},
     "output_type": "display_data"
    }
   ],
   "source": [
    "model = AutoModelForSeq2SeqLM.from_pretrained(\"allenai/macaw-large\") #300 million paramaters\n"
   ]
  },
  {
   "cell_type": "markdown",
   "metadata": {},
   "source": [
    "This is the most important step and the step that requires \"Prompt Engineering\" 😎\n",
    "\n",
    "Macaw can take multiple slots like `question`, `answer`, `mcoptions`, `context`, `explanation` and can take Angles like Q -> A and A -> Q\n",
    "\n",
    "Everything is defined in this `input_string`\n"
   ]
  },
  {
   "cell_type": "code",
   "execution_count": 35,
   "metadata": {
    "execution": {
     "iopub.execute_input": "2021-11-11T19:32:37.279994Z",
     "iopub.status.busy": "2021-11-11T19:32:37.279510Z",
     "iopub.status.idle": "2021-11-11T19:32:37.283997Z",
     "shell.execute_reply": "2021-11-11T19:32:37.283004Z",
     "shell.execute_reply.started": "2021-11-11T19:32:37.279960Z"
    },
    "trusted": true
   },
   "outputs": [],
   "source": [
    "input_string = \"$answer$; $question$ Which one is better? Emacs or Vim \"\n"
   ]
  },
  {
   "cell_type": "code",
   "execution_count": 36,
   "metadata": {
    "execution": {
     "iopub.execute_input": "2021-11-11T19:32:37.479191Z",
     "iopub.status.busy": "2021-11-11T19:32:37.478703Z",
     "iopub.status.idle": "2021-11-11T19:32:37.484193Z",
     "shell.execute_reply": "2021-11-11T19:32:37.483380Z",
     "shell.execute_reply.started": "2021-11-11T19:32:37.479158Z"
    },
    "trusted": true
   },
   "outputs": [],
   "source": [
    "input_ids = tokenizer.encode(input_string, return_tensors=\"pt\")"
   ]
  },
  {
   "cell_type": "code",
   "execution_count": 37,
   "metadata": {
    "execution": {
     "iopub.execute_input": "2021-11-11T19:32:37.747656Z",
     "iopub.status.busy": "2021-11-11T19:32:37.747224Z",
     "iopub.status.idle": "2021-11-11T19:32:39.170492Z",
     "shell.execute_reply": "2021-11-11T19:32:39.169458Z",
     "shell.execute_reply.started": "2021-11-11T19:32:37.747613Z"
    },
    "trusted": true
   },
   "outputs": [],
   "source": [
    "output = model.generate(input_ids, max_length=200)"
   ]
  },
  {
   "cell_type": "markdown",
   "metadata": {},
   "source": [
    "Get the Output of **Macaw**\n"
   ]
  },
  {
   "cell_type": "code",
   "execution_count": 38,
   "metadata": {
    "execution": {
     "iopub.execute_input": "2021-11-11T19:32:39.172374Z",
     "iopub.status.busy": "2021-11-11T19:32:39.172112Z",
     "iopub.status.idle": "2021-11-11T19:32:39.179631Z",
     "shell.execute_reply": "2021-11-11T19:32:39.178874Z",
     "shell.execute_reply.started": "2021-11-11T19:32:39.172317Z"
    },
    "trusted": true
   },
   "outputs": [
    {
     "data": {
      "text/plain": [
       "['$answer$ = emacs']"
      ]
     },
     "execution_count": 38,
     "metadata": {},
     "output_type": "execute_result"
    }
   ],
   "source": [
    "tokenizer.batch_decode(output, skip_special_tokens=True)"
   ]
  }
 ],
 "metadata": {
  "kernelspec": {
   "display_name": "Python 3",
   "language": "python",
   "name": "python3"
  },
  "language_info": {
   "codemirror_mode": {
    "name": "ipython",
    "version": 3
   },
   "file_extension": ".py",
   "mimetype": "text/x-python",
   "name": "python",
   "nbconvert_exporter": "python",
   "pygments_lexer": "ipython3",
   "version": "3.7.10"
  }
 },
 "nbformat": 4,
 "nbformat_minor": 4
}
